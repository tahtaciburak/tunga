{
 "cells": [
  {
   "cell_type": "code",
   "execution_count": null,
   "metadata": {},
   "outputs": [],
   "source": [
    "from transformers import pipeline, AutoModelForTokenClassification, AutoTokenizer\n",
    "model = AutoModelForTokenClassification.from_pretrained(\"savasy/bert-base-turkish-ner-cased\")\n",
    "tokenizer = AutoTokenizer.from_pretrained(\"savasy/bert-base-turkish-ner-cased\")\n",
    "ner=pipeline('ner', model=model, tokenizer=tokenizer)\n"
   ]
  },
  {
   "cell_type": "code",
   "execution_count": null,
   "metadata": {},
   "outputs": [],
   "source": [
    "def __clean_entity(arr):\n",
    "    elem_str = \"\"\n",
    "    for item in arr:\n",
    "        if item.startswith(\"#\"):\n",
    "            elem_str += item.replace(\"#\",\"\")\n",
    "        else:\n",
    "            elem_str += \" \" + item\n",
    "    return elem_str\n",
    "def get_result(text):\n",
    "    my_dict = {\n",
    "        \"PER\":[],\n",
    "        \"ORG\":[],\n",
    "        \"LOC\":[]\n",
    "    }\n",
    "    result_dict= {\n",
    "        \"PER\":[],\n",
    "        \"ORG\":[],\n",
    "        \"LOC\":[]\n",
    "\n",
    "    }\n",
    "    ner_result = ner(text)\n",
    "    for item in ner_result:\n",
    "        entity = item[\"entity\"][2:]\n",
    "        my_dict[entity].append(item)\n",
    "    \n",
    "    groups = []\n",
    "    temp_group = []\n",
    "    for i,key in enumerate(my_dict):\n",
    "        for item in my_dict[key]:\n",
    "            if item[\"word\"] != \"[CLS]\":\n",
    "                if item[\"entity\"][0] == \"B\":\n",
    "                    if len(temp_group) > 0 :\n",
    "                        groups.append(temp_group)\n",
    "                        #print(__clean_entity(temp_group),list(my_dict.keys())[0 if i== 0 else i-1])\n",
    "                        result_dict[list(my_dict.keys())[0 if i== 0 else i-1]].append(__clean_entity(temp_group))\n",
    "                    temp_group = []\n",
    "                temp_group.append(item[\"word\"])\n",
    "    result_dict[list(my_dict.keys())[0 if i== 0 else i]].append(__clean_entity(temp_group))\n",
    "    return result_dict\n",
    "get_result(\"Crypttech şirketinde İstanbul ofisinde arge mühendisi olarak çalışmakatadır. Ankara'ya taşınmayı düşünmektedir ancak Beyza Canbay buna izin vermemektedir. Burak Tahtacı bir mühendistir.\")"
   ]
  },
  {
   "cell_type": "code",
   "execution_count": null,
   "metadata": {},
   "outputs": [],
   "source": [
    "ner(\"Burak TAHTACI adlı kişi Crypttech şirketinde İstanbul ofisinde arge mühendisi olarak çalışmakatadır. Ankara'ya taşınmayı düşünmektedir ancak Beyza Canbay buna izin vermemektedir\")"
   ]
  },
  {
   "cell_type": "code",
   "execution_count": null,
   "metadata": {},
   "outputs": [],
   "source": []
  },
  {
   "cell_type": "code",
   "execution_count": null,
   "metadata": {},
   "outputs": [],
   "source": []
  }
 ],
 "metadata": {
  "kernelspec": {
   "display_name": "Python 3",
   "language": "python",
   "name": "python3"
  },
  "language_info": {
   "codemirror_mode": {
    "name": "ipython",
    "version": 3
   },
   "file_extension": ".py",
   "mimetype": "text/x-python",
   "name": "python",
   "nbconvert_exporter": "python",
   "pygments_lexer": "ipython3",
   "version": "3.6.9"
  }
 },
 "nbformat": 4,
 "nbformat_minor": 4
}
