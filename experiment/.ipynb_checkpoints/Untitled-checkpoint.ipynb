{
 "cells": [
  {
   "cell_type": "code",
   "execution_count": 92,
   "metadata": {},
   "outputs": [],
   "source": [
    "from transformers import pipeline, AutoModelForTokenClassification, AutoTokenizer\n",
    "model = AutoModelForTokenClassification.from_pretrained(\"savasy/bert-base-turkish-ner-cased\")\n",
    "tokenizer = AutoTokenizer.from_pretrained(\"savasy/bert-base-turkish-ner-cased\")\n",
    "ner=pipeline('ner', model=model, tokenizer=tokenizer)\n"
   ]
  },
  {
   "cell_type": "code",
   "execution_count": 252,
   "metadata": {},
   "outputs": [
    {
     "data": {
      "text/plain": [
       "{'PER': [' Beyza Canbay', ' Burak Tahtacı'],\n",
       " 'ORG': [' Crypttech', ' İstanbul'],\n",
       " 'LOC': [' Ankara']}"
      ]
     },
     "execution_count": 252,
     "metadata": {},
     "output_type": "execute_result"
    }
   ],
   "source": [
    "def __clean_entity(arr):\n",
    "    elem_str = \"\"\n",
    "    for item in arr:\n",
    "        if item.startswith(\"#\"):\n",
    "            elem_str += item.replace(\"#\",\"\")\n",
    "        else:\n",
    "            elem_str += \" \" + item\n",
    "    return elem_str\n",
    "def get_result(text):\n",
    "    my_dict = {\n",
    "        \"PER\":[],\n",
    "        \"ORG\":[],\n",
    "        \"LOC\":[]\n",
    "    }\n",
    "    result_dict= {\n",
    "        \"PER\":[],\n",
    "        \"ORG\":[],\n",
    "        \"LOC\":[]\n",
    "\n",
    "    }\n",
    "    ner_result = ner(text)\n",
    "    for item in ner_result:\n",
    "        entity = item[\"entity\"][2:]\n",
    "        my_dict[entity].append(item)\n",
    "    \n",
    "    groups = []\n",
    "    temp_group = []\n",
    "    for i,key in enumerate(my_dict):\n",
    "        for item in my_dict[key]:\n",
    "            if item[\"word\"] != \"[CLS]\":\n",
    "                if item[\"entity\"][0] == \"B\":\n",
    "                    if len(temp_group) > 0 :\n",
    "                        groups.append(temp_group)\n",
    "                        #print(__clean_entity(temp_group),list(my_dict.keys())[0 if i== 0 else i-1])\n",
    "                        result_dict[list(my_dict.keys())[0 if i== 0 else i-1]].append(__clean_entity(temp_group))\n",
    "                    temp_group = []\n",
    "                temp_group.append(item[\"word\"])\n",
    "    result_dict[list(my_dict.keys())[0 if i== 0 else i]].append(__clean_entity(temp_group))\n",
    "    return result_dict\n",
    "get_result(\"Crypttech şirketinde İstanbul ofisinde arge mühendisi olarak çalışmakatadır. Ankara'ya taşınmayı düşünmektedir ancak Beyza Canbay buna izin vermemektedir. Burak Tahtacı bir mühendistir.\")"
   ]
  },
  {
   "cell_type": "code",
   "execution_count": 246,
   "metadata": {},
   "outputs": [
    {
     "data": {
      "text/plain": [
       "[{'word': 'Burak', 'score': 0.8909953832626343, 'entity': 'B-PER', 'index': 1},\n",
       " {'word': 'Cry', 'score': 0.9276074767112732, 'entity': 'B-ORG', 'index': 8},\n",
       " {'word': '##pt', 'score': 0.8817033767700195, 'entity': 'I-ORG', 'index': 9},\n",
       " {'word': '##te', 'score': 0.8569360971450806, 'entity': 'I-ORG', 'index': 10},\n",
       " {'word': '##ch', 'score': 0.8392848968505859, 'entity': 'I-ORG', 'index': 11},\n",
       " {'word': 'İstanbul',\n",
       "  'score': 0.9975874423980713,\n",
       "  'entity': 'B-LOC',\n",
       "  'index': 14},\n",
       " {'word': 'Ankara',\n",
       "  'score': 0.9994767308235168,\n",
       "  'entity': 'B-LOC',\n",
       "  'index': 25},\n",
       " {'word': 'Bey', 'score': 0.9980124235153198, 'entity': 'B-PER', 'index': 33},\n",
       " {'word': '##za', 'score': 0.8938858509063721, 'entity': 'I-PER', 'index': 34},\n",
       " {'word': 'Can', 'score': 0.9977036714553833, 'entity': 'I-PER', 'index': 35},\n",
       " {'word': '##bay',\n",
       "  'score': 0.9816491007804871,\n",
       "  'entity': 'I-PER',\n",
       "  'index': 36}]"
      ]
     },
     "execution_count": 246,
     "metadata": {},
     "output_type": "execute_result"
    }
   ],
   "source": [
    "ner(\"Burak TAHTACI adlı kişi Crypttech şirketinde İstanbul ofisinde arge mühendisi olarak çalışmakatadır. Ankara'ya taşınmayı düşünmektedir ancak Beyza Canbay buna izin vermemektedir\")"
   ]
  },
  {
   "cell_type": "code",
   "execution_count": null,
   "metadata": {},
   "outputs": [],
   "source": []
  },
  {
   "cell_type": "code",
   "execution_count": null,
   "metadata": {},
   "outputs": [],
   "source": []
  }
 ],
 "metadata": {
  "kernelspec": {
   "display_name": "Python 3",
   "language": "python",
   "name": "python3"
  },
  "language_info": {
   "codemirror_mode": {
    "name": "ipython",
    "version": 3
   },
   "file_extension": ".py",
   "mimetype": "text/x-python",
   "name": "python",
   "nbconvert_exporter": "python",
   "pygments_lexer": "ipython3",
   "version": "3.6.9"
  }
 },
 "nbformat": 4,
 "nbformat_minor": 4
}
